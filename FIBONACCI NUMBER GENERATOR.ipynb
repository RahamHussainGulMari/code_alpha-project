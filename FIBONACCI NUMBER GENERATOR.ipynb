{
 "cells": [
  {
   "cell_type": "code",
   "execution_count": 1,
   "id": "4face3c0-36e1-44ce-b409-83c2ba767638",
   "metadata": {},
   "outputs": [
    {
     "name": "stdin",
     "output_type": "stream",
     "text": [
      "How many Fibonacci numbers do you want to generate?  3\n"
     ]
    },
    {
     "name": "stdout",
     "output_type": "stream",
     "text": [
      "\n",
      "Generated Fibonacci Sequence: [0, 1, 1]\n",
      "1: \n",
      "2: ⦿\n",
      "3: ⦿\n"
     ]
    }
   ],
   "source": [
    "def fibonacci(n, a=0, b=1):\n",
    "    # Base case: when n reaches 0, stop recursion\n",
    "    if n == 0:\n",
    "        return\n",
    "    # Yield the current Fibonacci number\n",
    "    yield a\n",
    "    # Recursively call the function for the next Fibonacci numbers\n",
    "    yield from fibonacci(n-1, b, a + b)\n",
    "\n",
    "def visualize_fibonacci(fib_sequence):\n",
    "    # Loop through the Fibonacci sequence and print a visual representation\n",
    "    for idx, num in enumerate(fib_sequence):\n",
    "        print(f\"{idx + 1}: \" + \"⦿\" * num)\n",
    "\n",
    "# Get the number of Fibonacci numbers to generate from the user\n",
    "num = int(input(\"How many Fibonacci numbers do you want to generate? \"))\n",
    "\n",
    "# Generate the Fibonacci sequence\n",
    "fib_sequence = list(fibonacci(num))\n",
    "\n",
    "# Print the generated Fibonacci sequence\n",
    "print(\"\\nGenerated Fibonacci Sequence:\", fib_sequence)\n",
    "# Visualize the Fibonacci sequence using symbols\n",
    "visualize_fibonacci(fib_sequence)\n"
   ]
  },
  {
   "cell_type": "markdown",
   "id": "5bfb5ae2-0ab6-4845-a4bc-39829f1ef404",
   "metadata": {},
   "source": [
    "**SUMMARY FOR ABOVE CODE**"
   ]
  },
  {
   "cell_type": "code",
   "execution_count": null,
   "id": "f9b171a4-a2ac-405d-88ed-78e2d5d544c4",
   "metadata": {},
   "outputs": [],
   "source": [
    "#This code asks you how many Fibonacci numbers you want,\n",
    "#then it creates them by adding the last two numbers to get the next one. \n",
    "#After it makes the list of numbers, \n",
    "#it shows them in two ways: as a normal list and with symbols to show how big each number is.\n",
    "#HOPE YOU UNDERSTAND"
   ]
  }
 ],
 "metadata": {
  "kernelspec": {
   "display_name": "Python 3 (ipykernel)",
   "language": "python",
   "name": "python3"
  },
  "language_info": {
   "codemirror_mode": {
    "name": "ipython",
    "version": 3
   },
   "file_extension": ".py",
   "mimetype": "text/x-python",
   "name": "python",
   "nbconvert_exporter": "python",
   "pygments_lexer": "ipython3",
   "version": "3.11.7"
  }
 },
 "nbformat": 4,
 "nbformat_minor": 5
}
